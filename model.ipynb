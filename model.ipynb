{
  "cells": [
    {
      "cell_type": "markdown",
      "metadata": {
        "id": "iayKty8P-V4L"
      },
      "source": [
        "## 1. DATA LOADING & CLEANING"
      ]
    },
    {
      "cell_type": "code",
      "execution_count": 17,
      "metadata": {
        "id": "bi_pyIoI4fKA"
      },
      "outputs": [],
      "source": [
        "import pandas as pd\n",
        "import numpy as np\n",
        "from sklearn.preprocessing import LabelEncoder, StandardScaler\n",
        "from sklearn.metrics.pairwise import cosine_similarity"
      ]
    },
    {
      "cell_type": "code",
      "execution_count": null,
      "metadata": {
        "id": "4Y-HLIaL4rN9"
      },
      "outputs": [
        {
          "ename": "FileNotFoundError",
          "evalue": "[Errno 2] No such file or directory: '/content/gc (1) (6).xlsx'",
          "output_type": "error",
          "traceback": [
            "\u001b[1;31m---------------------------------------------------------------------------\u001b[0m",
            "\u001b[1;31mFileNotFoundError\u001b[0m                         Traceback (most recent call last)",
            "Cell \u001b[1;32mIn[18], line 1\u001b[0m\n\u001b[1;32m----> 1\u001b[0m data \u001b[38;5;241m=\u001b[39m pd\u001b[38;5;241m.\u001b[39mread_excel(\u001b[38;5;124m\"\u001b[39m\u001b[38;5;124m/content/gc (1) (6).xlsx\u001b[39m\u001b[38;5;124m\"\u001b[39m)\n",
            "File \u001b[1;32mc:\\Users\\Anirudh Garg\\anaconda3\\Lib\\site-packages\\pandas\\io\\excel\\_base.py:495\u001b[0m, in \u001b[0;36mread_excel\u001b[1;34m(io, sheet_name, header, names, index_col, usecols, dtype, engine, converters, true_values, false_values, skiprows, nrows, na_values, keep_default_na, na_filter, verbose, parse_dates, date_parser, date_format, thousands, decimal, comment, skipfooter, storage_options, dtype_backend, engine_kwargs)\u001b[0m\n\u001b[0;32m    493\u001b[0m \u001b[38;5;28;01mif\u001b[39;00m \u001b[38;5;129;01mnot\u001b[39;00m \u001b[38;5;28misinstance\u001b[39m(io, ExcelFile):\n\u001b[0;32m    494\u001b[0m     should_close \u001b[38;5;241m=\u001b[39m \u001b[38;5;28;01mTrue\u001b[39;00m\n\u001b[1;32m--> 495\u001b[0m     io \u001b[38;5;241m=\u001b[39m ExcelFile(\n\u001b[0;32m    496\u001b[0m         io,\n\u001b[0;32m    497\u001b[0m         storage_options\u001b[38;5;241m=\u001b[39mstorage_options,\n\u001b[0;32m    498\u001b[0m         engine\u001b[38;5;241m=\u001b[39mengine,\n\u001b[0;32m    499\u001b[0m         engine_kwargs\u001b[38;5;241m=\u001b[39mengine_kwargs,\n\u001b[0;32m    500\u001b[0m     )\n\u001b[0;32m    501\u001b[0m \u001b[38;5;28;01melif\u001b[39;00m engine \u001b[38;5;129;01mand\u001b[39;00m engine \u001b[38;5;241m!=\u001b[39m io\u001b[38;5;241m.\u001b[39mengine:\n\u001b[0;32m    502\u001b[0m     \u001b[38;5;28;01mraise\u001b[39;00m \u001b[38;5;167;01mValueError\u001b[39;00m(\n\u001b[0;32m    503\u001b[0m         \u001b[38;5;124m\"\u001b[39m\u001b[38;5;124mEngine should not be specified when passing \u001b[39m\u001b[38;5;124m\"\u001b[39m\n\u001b[0;32m    504\u001b[0m         \u001b[38;5;124m\"\u001b[39m\u001b[38;5;124man ExcelFile - ExcelFile already has the engine set\u001b[39m\u001b[38;5;124m\"\u001b[39m\n\u001b[0;32m    505\u001b[0m     )\n",
            "File \u001b[1;32mc:\\Users\\Anirudh Garg\\anaconda3\\Lib\\site-packages\\pandas\\io\\excel\\_base.py:1550\u001b[0m, in \u001b[0;36mExcelFile.__init__\u001b[1;34m(self, path_or_buffer, engine, storage_options, engine_kwargs)\u001b[0m\n\u001b[0;32m   1548\u001b[0m     ext \u001b[38;5;241m=\u001b[39m \u001b[38;5;124m\"\u001b[39m\u001b[38;5;124mxls\u001b[39m\u001b[38;5;124m\"\u001b[39m\n\u001b[0;32m   1549\u001b[0m \u001b[38;5;28;01melse\u001b[39;00m:\n\u001b[1;32m-> 1550\u001b[0m     ext \u001b[38;5;241m=\u001b[39m inspect_excel_format(\n\u001b[0;32m   1551\u001b[0m         content_or_path\u001b[38;5;241m=\u001b[39mpath_or_buffer, storage_options\u001b[38;5;241m=\u001b[39mstorage_options\n\u001b[0;32m   1552\u001b[0m     )\n\u001b[0;32m   1553\u001b[0m     \u001b[38;5;28;01mif\u001b[39;00m ext \u001b[38;5;129;01mis\u001b[39;00m \u001b[38;5;28;01mNone\u001b[39;00m:\n\u001b[0;32m   1554\u001b[0m         \u001b[38;5;28;01mraise\u001b[39;00m \u001b[38;5;167;01mValueError\u001b[39;00m(\n\u001b[0;32m   1555\u001b[0m             \u001b[38;5;124m\"\u001b[39m\u001b[38;5;124mExcel file format cannot be determined, you must specify \u001b[39m\u001b[38;5;124m\"\u001b[39m\n\u001b[0;32m   1556\u001b[0m             \u001b[38;5;124m\"\u001b[39m\u001b[38;5;124man engine manually.\u001b[39m\u001b[38;5;124m\"\u001b[39m\n\u001b[0;32m   1557\u001b[0m         )\n",
            "File \u001b[1;32mc:\\Users\\Anirudh Garg\\anaconda3\\Lib\\site-packages\\pandas\\io\\excel\\_base.py:1402\u001b[0m, in \u001b[0;36minspect_excel_format\u001b[1;34m(content_or_path, storage_options)\u001b[0m\n\u001b[0;32m   1399\u001b[0m \u001b[38;5;28;01mif\u001b[39;00m \u001b[38;5;28misinstance\u001b[39m(content_or_path, \u001b[38;5;28mbytes\u001b[39m):\n\u001b[0;32m   1400\u001b[0m     content_or_path \u001b[38;5;241m=\u001b[39m BytesIO(content_or_path)\n\u001b[1;32m-> 1402\u001b[0m \u001b[38;5;28;01mwith\u001b[39;00m get_handle(\n\u001b[0;32m   1403\u001b[0m     content_or_path, \u001b[38;5;124m\"\u001b[39m\u001b[38;5;124mrb\u001b[39m\u001b[38;5;124m\"\u001b[39m, storage_options\u001b[38;5;241m=\u001b[39mstorage_options, is_text\u001b[38;5;241m=\u001b[39m\u001b[38;5;28;01mFalse\u001b[39;00m\n\u001b[0;32m   1404\u001b[0m ) \u001b[38;5;28;01mas\u001b[39;00m handle:\n\u001b[0;32m   1405\u001b[0m     stream \u001b[38;5;241m=\u001b[39m handle\u001b[38;5;241m.\u001b[39mhandle\n\u001b[0;32m   1406\u001b[0m     stream\u001b[38;5;241m.\u001b[39mseek(\u001b[38;5;241m0\u001b[39m)\n",
            "File \u001b[1;32mc:\\Users\\Anirudh Garg\\anaconda3\\Lib\\site-packages\\pandas\\io\\common.py:882\u001b[0m, in \u001b[0;36mget_handle\u001b[1;34m(path_or_buf, mode, encoding, compression, memory_map, is_text, errors, storage_options)\u001b[0m\n\u001b[0;32m    873\u001b[0m         handle \u001b[38;5;241m=\u001b[39m \u001b[38;5;28mopen\u001b[39m(\n\u001b[0;32m    874\u001b[0m             handle,\n\u001b[0;32m    875\u001b[0m             ioargs\u001b[38;5;241m.\u001b[39mmode,\n\u001b[1;32m   (...)\u001b[0m\n\u001b[0;32m    878\u001b[0m             newline\u001b[38;5;241m=\u001b[39m\u001b[38;5;124m\"\u001b[39m\u001b[38;5;124m\"\u001b[39m,\n\u001b[0;32m    879\u001b[0m         )\n\u001b[0;32m    880\u001b[0m     \u001b[38;5;28;01melse\u001b[39;00m:\n\u001b[0;32m    881\u001b[0m         \u001b[38;5;66;03m# Binary mode\u001b[39;00m\n\u001b[1;32m--> 882\u001b[0m         handle \u001b[38;5;241m=\u001b[39m \u001b[38;5;28mopen\u001b[39m(handle, ioargs\u001b[38;5;241m.\u001b[39mmode)\n\u001b[0;32m    883\u001b[0m     handles\u001b[38;5;241m.\u001b[39mappend(handle)\n\u001b[0;32m    885\u001b[0m \u001b[38;5;66;03m# Convert BytesIO or file objects passed with an encoding\u001b[39;00m\n",
            "\u001b[1;31mFileNotFoundError\u001b[0m: [Errno 2] No such file or directory: '/content/gc (1) (6).xlsx'"
          ]
        }
      ],
      "source": [
        "data = pd.read_excel(\"gym recommendation.xlsx\")"
      ]
    },
    {
      "cell_type": "code",
      "execution_count": null,
      "metadata": {
        "colab": {
          "base_uri": "https://localhost:8080/"
        },
        "id": "AKtyFwm34wkf",
        "outputId": "a9046ded-5461-494f-dd19-375d63ebf89f"
      },
      "outputs": [],
      "source": [
        "data.columns"
      ]
    },
    {
      "cell_type": "code",
      "execution_count": null,
      "metadata": {
        "id": "b702opPG4181"
      },
      "outputs": [],
      "source": [
        "data.drop(columns=['id'], inplace = True)"
      ]
    },
    {
      "cell_type": "code",
      "execution_count": null,
      "metadata": {
        "colab": {
          "base_uri": "https://localhost:8080/",
          "height": 379
        },
        "id": "NlvZPfze46n2",
        "outputId": "38f79eed-6380-4b9e-a62b-3c4365210117"
      },
      "outputs": [],
      "source": [
        "data.head()"
      ]
    },
    {
      "cell_type": "code",
      "execution_count": null,
      "metadata": {
        "colab": {
          "base_uri": "https://localhost:8080/"
        },
        "id": "PJQ79UyT47eL",
        "outputId": "4bc8b3ab-1c00-4d0a-af5d-28862976d1ac"
      },
      "outputs": [],
      "source": [
        "data.shape"
      ]
    },
    {
      "cell_type": "code",
      "execution_count": null,
      "metadata": {
        "colab": {
          "base_uri": "https://localhost:8080/",
          "height": 523
        },
        "id": "IkzJdBZUQHbY",
        "outputId": "f06b2be2-ccae-4db3-84ca-e30e95bbfcd5"
      },
      "outputs": [],
      "source": [
        "data.isnull().sum()"
      ]
    },
    {
      "cell_type": "code",
      "execution_count": null,
      "metadata": {
        "colab": {
          "base_uri": "https://localhost:8080/"
        },
        "id": "YXqxsmwqRR0y",
        "outputId": "28b7ee7b-45aa-4fad-ee92-a09b48437f87"
      },
      "outputs": [],
      "source": [
        "print(data.dtypes)\n"
      ]
    },
    {
      "cell_type": "code",
      "execution_count": null,
      "metadata": {
        "colab": {
          "base_uri": "https://localhost:8080/"
        },
        "id": "fXFwA_khRb20",
        "outputId": "b3e6bc5c-9cb7-4e7e-8145-0a27d1d6821b"
      },
      "outputs": [],
      "source": [
        "# Convert 'age', 'Height', 'weight', 'bmi' to numeric (case-sensitive names)\n",
        "data[['age', 'Height', 'weight', 'bmi']] = data[['age', 'Height', 'weight', 'bmi']].apply(pd.to_numeric, errors='coerce')\n",
        "\n",
        "# Handle missing values if any invalid values are coerced to NaN\n",
        "# Option 1: Replace NaN with 0\n",
        "data.fillna(0, inplace=True)\n",
        "\n",
        "# Option 2: Drop rows with missing values in these columns\n",
        "# data.dropna(subset=['age', 'Height', 'weight', 'bmi'], inplace=True)\n",
        "\n",
        "# Verify the conversion and data types\n",
        "print(data[['age', 'Height', 'weight', 'bmi']].dtypes)\n",
        "\n",
        "# Optional: Check for any remaining NaN values\n",
        "print(data[['age', 'Height', 'weight', 'bmi']].isnull().sum())\n"
      ]
    },
    {
      "cell_type": "markdown",
      "metadata": {
        "id": "C4xVPb1r-kK7"
      },
      "source": [
        "## 2. LABEL ENCODING"
      ]
    },
    {
      "cell_type": "code",
      "execution_count": null,
      "metadata": {
        "colab": {
          "base_uri": "https://localhost:8080/"
        },
        "id": "OqHujQBC48gF",
        "outputId": "cfcd7063-62a4-47ee-e209-1d45fe4cad04"
      },
      "outputs": [],
      "source": [
        "from sklearn.preprocessing import LabelEncoder\n",
        "\n",
        "# Initialize the LabelEncoder\n",
        "label_enc = LabelEncoder()\n",
        "\n",
        "# Corrected column names based on your dataset\n",
        "for col in ['sex', 'hypertension', 'diabetes', 'level', 'fitness_goal', 'fitness_type']:\n",
        "    data[col] = label_enc.fit_transform(data[col])\n",
        "\n",
        "# Verify the transformation\n",
        "print(data[['sex', 'hypertension', 'diabetes', 'level', 'fitness_goal', 'fitness_type']].head())\n"
      ]
    },
    {
      "cell_type": "code",
      "execution_count": null,
      "metadata": {
        "colab": {
          "base_uri": "https://localhost:8080/",
          "height": 379
        },
        "id": "XFb_k0JH5AfX",
        "outputId": "7cea6d9d-0250-4c84-c41d-427511a513f4"
      },
      "outputs": [],
      "source": [
        "data.head()"
      ]
    },
    {
      "cell_type": "markdown",
      "metadata": {
        "id": "aV1FNCOl-nJ8"
      },
      "source": [
        "## 3. NORMALIZATION"
      ]
    },
    {
      "cell_type": "code",
      "execution_count": null,
      "metadata": {
        "colab": {
          "base_uri": "https://localhost:8080/"
        },
        "id": "q4_LsMXZ5CVd",
        "outputId": "1449c07b-8a3a-4e20-d785-4c732286154c"
      },
      "outputs": [],
      "source": [
        "from sklearn.preprocessing import StandardScaler\n",
        "\n",
        "# Initialize the StandardScaler\n",
        "scaler = StandardScaler()\n",
        "\n",
        "# Normalize the numerical features with the correct column names\n",
        "data[['age', 'Height', 'weight', 'bmi']] = scaler.fit_transform(data[['age', 'Height', 'weight', 'bmi']])\n",
        "\n",
        "# Verify the transformation\n",
        "print(data[['age', 'Height', 'weight', 'bmi']].head())\n"
      ]
    },
    {
      "cell_type": "code",
      "execution_count": null,
      "metadata": {
        "colab": {
          "base_uri": "https://localhost:8080/",
          "height": 397
        },
        "id": "EgdwjxQD5Nwa",
        "outputId": "5d3efaad-023a-48f1-bb20-066949c814d4"
      },
      "outputs": [],
      "source": [
        "data.head()"
      ]
    },
    {
      "cell_type": "code",
      "execution_count": null,
      "metadata": {
        "id": "Py6dwAryaNTh"
      },
      "outputs": [],
      "source": [
        "# Select only numerical columns\n",
        "numerical_data = data.select_dtypes(include=[np.number])\n",
        "\n",
        "# Compute correlation matrix\n",
        "corr_matrix = numerical_data.corr()\n",
        "\n",
        "# Plot heatmap\n",
        "import seaborn as sns\n",
        "import matplotlib.pyplot as plt\n",
        "\n",
        "plt.figure(figsize=(10, 8))\n",
        "sns.heatmap(corr_matrix, annot=True, cmap='coolwarm', fmt='.2f')\n",
        "plt.title(\"Correlation Heatmap\")\n",
        "plt.show()\n"
      ]
    },
    {
      "cell_type": "code",
      "execution_count": null,
      "metadata": {
        "id": "wvTt4TEZb4OT"
      },
      "outputs": [],
      "source": [
        "# Plot histograms for numerical columns\n",
        "data.select_dtypes(include=[np.number]).hist(bins=20, figsize=(15, 10))\n",
        "plt.suptitle(\"Distribution of Numerical Features\")\n",
        "plt.show()\n"
      ]
    },
    {
      "cell_type": "code",
      "execution_count": null,
      "metadata": {
        "colab": {
          "base_uri": "https://localhost:8080/",
          "height": 219
        },
        "id": "rXg9njQeb_NZ",
        "outputId": "0aed525f-03fd-49f6-b8f0-883c1d3a5936"
      },
      "outputs": [],
      "source": [
        "# Plot box plots for numerical columns\n",
        "plt.figure(figsize=(15, 10))\n",
        "sns.boxplot(data=data.select_dtypes(include=[np.number]))\n",
        "plt.xticks(rotation=45)\n",
        "plt.title(\"Box Plot of Numerical Features\")\n",
        "plt.show()\n"
      ]
    },
    {
      "cell_type": "code",
      "execution_count": null,
      "metadata": {
        "colab": {
          "base_uri": "https://localhost:8080/"
        },
        "id": "0I53O1PYT_Sd",
        "outputId": "25f9d2d9-bb6e-493a-cd77-63e27c48a23b"
      },
      "outputs": [],
      "source": [
        "import pandas as pd\n",
        "import numpy as np\n",
        "from scipy.stats import zscore\n",
        "\n",
        "# Print column names to verify\n",
        "print(\"Columns in the dataset:\", data.columns)\n",
        "\n",
        "# Correct column names based on your dataset\n",
        "columns_to_check = ['age', 'Height', 'weight', 'bmi']\n",
        "\n",
        "# Function to detect and remove outliers using Z-score method\n",
        "def remove_outliers_zscore(data, columns, threshold=3):\n",
        "    # Apply z-score on the specified columns\n",
        "    z_scores = np.abs(zscore(data[columns].apply(pd.to_numeric, errors='coerce')))\n",
        "\n",
        "    # Filter out rows where any of the columns exceed the threshold\n",
        "    data_no_outliers = data[(z_scores < threshold).all(axis=1)]\n",
        "    return data_no_outliers\n",
        "\n",
        "# 1. Remove outliers using Z-score method\n",
        "data_no_outliers = remove_outliers_zscore(data, columns_to_check, threshold=3)\n",
        "\n",
        "# Check the cleaned data\n",
        "print(\"Data after removing outliers:\\n\", data_no_outliers.head())\n"
      ]
    },
    {
      "cell_type": "code",
      "execution_count": null,
      "metadata": {
        "colab": {
          "base_uri": "https://localhost:8080/",
          "height": 545
        },
        "id": "Kw48g3B7UpkX",
        "outputId": "690fdeba-fcac-438d-ab9c-02737386886b"
      },
      "outputs": [],
      "source": [
        "import seaborn as sns\n",
        "import matplotlib.pyplot as plt\n",
        "\n",
        "# List of columns to visualize\n",
        "columns_to_plot = ['age', 'Height', 'weight', 'bmi']\n",
        "\n",
        "# Set the figure size for better clarity\n",
        "plt.figure(figsize=(10, 6))\n",
        "\n",
        "# Plot the boxplot for each feature\n",
        "sns.boxplot(data=data[columns_to_plot])\n",
        "\n",
        "# Title for the plot\n",
        "plt.title(\"Boxplot for Age, Height, Weight, and BMI\")\n",
        "\n",
        "# Display the plot\n",
        "plt.show()\n"
      ]
    },
    {
      "cell_type": "code",
      "execution_count": null,
      "metadata": {
        "colab": {
          "base_uri": "https://localhost:8080/",
          "height": 566
        },
        "id": "ulXh6H-gf1MA",
        "outputId": "84e5c1ff-8755-4d86-e122-1798598631c1"
      },
      "outputs": [],
      "source": [
        "import matplotlib.pyplot as plt\n",
        "import seaborn as sns\n",
        "from sklearn.decomposition import PCA\n",
        "from sklearn.cluster import KMeans\n",
        "from sklearn.preprocessing import StandardScaler\n",
        "\n",
        "# Assuming `data` is your dataset with the necessary columns\n",
        "\n",
        "# Prepare features for clustering\n",
        "features = ['age', 'Height', 'weight', 'bmi', 'hypertension', 'diabetes', 'level', 'fitness_goal', 'fitness_type']\n",
        "X = data[features]\n",
        "\n",
        "# Ensure all features are in the same case as the original dataset (e.g., 'height' vs 'Height')\n",
        "# Initialize and fit the scaler\n",
        "scaler = StandardScaler()\n",
        "\n",
        "# Fit scaler on the training data (assuming you have a separate training dataset, or fit it directly on your data)\n",
        "X_scaled = scaler.fit_transform(X)\n",
        "\n",
        "# Perform KMeans clustering (you can adjust the number of clusters)\n",
        "kmeans = KMeans(n_clusters=4, random_state=42)\n",
        "data['cluster'] = kmeans.fit_predict(X_scaled)\n",
        "\n",
        "# Reduce dimensions for visualization (PCA to 2D)\n",
        "pca = PCA(n_components=2)\n",
        "X_pca = pca.fit_transform(X_scaled)\n",
        "\n",
        "# Plot the clusters\n",
        "plt.figure(figsize=(10, 6))\n",
        "sns.scatterplot(x=X_pca[:, 0], y=X_pca[:, 1], hue=data['cluster'], palette='viridis', s=100, edgecolor='black')\n",
        "\n",
        "# Set plot labels and title\n",
        "plt.title(\"Clustering of Users Based on Features\", fontsize=16)\n",
        "plt.xlabel(\"Principal Component 1\")\n",
        "plt.ylabel(\"Principal Component 2\")\n",
        "plt.legend(title=\"Cluster\", loc=\"upper right\")\n",
        "plt.show()\n"
      ]
    },
    {
      "cell_type": "code",
      "execution_count": null,
      "metadata": {
        "colab": {
          "base_uri": "https://localhost:8080/",
          "height": 1000
        },
        "id": "QPYrN0NFcDzs",
        "outputId": "d7ad1563-28ed-4b71-feb2-cb10a652a927"
      },
      "outputs": [],
      "source": [
        "import seaborn as sns\n",
        "import matplotlib.pyplot as plt\n",
        "\n",
        "# Corrected pairplot with column names matching your dataset\n",
        "sns.pairplot(data, vars=['age', 'weight', 'bmi', 'Height'], hue='fitness_goal', palette='viridis')\n",
        "\n",
        "# Add a title to the pairplot\n",
        "plt.suptitle(\"Pairplot of Selected Features\", y=1.02)\n",
        "\n",
        "# Show the plot\n",
        "plt.show()\n"
      ]
    },
    {
      "cell_type": "code",
      "execution_count": null,
      "metadata": {
        "colab": {
          "base_uri": "https://localhost:8080/"
        },
        "id": "f3FCAs3qxiW7",
        "outputId": "952a621d-af1c-47da-fc6a-d28267f9fcee"
      },
      "outputs": [],
      "source": [
        "from sklearn.cluster import KMeans\n",
        "import numpy as np\n",
        "import pandas as pd\n",
        "from sklearn.preprocessing import StandardScaler\n",
        "\n",
        "# Assuming `data` is your dataset and `scaler` is already fitted with your data's numeric columns.\n",
        "scaler = StandardScaler()\n",
        "numeric_columns = ['age', 'Height', 'weight', 'bmi']\n",
        "data[numeric_columns] = scaler.fit_transform(data[numeric_columns])\n",
        "\n",
        "# Train K-Means model\n",
        "kmeans = KMeans(n_clusters=5, random_state=42)\n",
        "data['Cluster'] = kmeans.fit_predict(data[['sex', 'age', 'Height', 'weight', 'hypertension', 'diabetes', 'bmi', 'level', 'fitness_goal', 'fitness_type']])\n",
        "\n",
        "def get_recommendation_kmeans():\n",
        "    print(\"Please enter your details for a personalized workout and diet recommendation.\")\n",
        "    user_input = {\n",
        "        'sex': int(input(\"Enter Sex (Male: 1 / Female: 0): \")),\n",
        "        'age': float(input(\"Enter Age: \")),\n",
        "        'Height': float(input(\"Enter Height in meters (e.g., 1.75): \")),\n",
        "        'weight': float(input(\"Enter Weight in kg: \")),\n",
        "        'hypertension': int(input(\"Do you have Hypertension (Yes: 1 / No: 0): \")),\n",
        "        'diabetes': int(input(\"Do you have Diabetes (Yes: 1 / No: 0): \")),\n",
        "        'bmi': float(input(\"Enter BMI: \")),\n",
        "        'level': int(input(\"Enter Level (Underweight: 3 / Normal: 0 / Overweight: 2 / Obese: 1): \")),\n",
        "        'fitness_goal': int(input(\"Enter Fitness Goal (Weight Gain: 0 / Weight Loss: 1): \")),\n",
        "        'fitness_type': int(input(\"Enter Fitness Type (Muscular Fitness: 1 / Cardio Fitness: 0): \"))\n",
        "    }\n",
        "\n",
        "    # Normalize numerical features\n",
        "    user_df = pd.DataFrame([user_input])\n",
        "    user_df[numeric_columns] = scaler.transform(user_df[numeric_columns])\n",
        "\n",
        "    # Predict cluster for the user\n",
        "    user_cluster = kmeans.predict(user_df[['sex', 'age', 'Height', 'weight', 'hypertension', 'diabetes', 'bmi', 'level', 'fitness_goal', 'fitness_type']])[0]\n",
        "    cluster_data = data[data['Cluster'] == user_cluster]\n",
        "\n",
        "    # Get the most common recommendations in the cluster\n",
        "    recommendation = cluster_data[['exercises', 'equipment', 'diet']].mode().iloc[0]\n",
        "\n",
        "    print(\"\\nRecommended Workout and Diet Plan (K-Means):\")\n",
        "    print(\"EXERCISES:\", recommendation['exercises'])\n",
        "    print(\"EQUIPMENT:\", recommendation['equipment'])\n",
        "    print(\"DIET:\", recommendation['diet'])\n",
        "\n",
        "    # Collect feedback for MRR\n",
        "    feedback_matrix = []\n",
        "    feedback = int(input(\"Was this recommendation relevant? (Yes: 1 / No: 0): \"))\n",
        "    feedback_matrix.append(feedback)\n",
        "\n",
        "    # Calculate MRR\n",
        "    relevant_indices = [i + 1 for i, feedback in enumerate(feedback_matrix) if feedback == 1]\n",
        "    if relevant_indices:\n",
        "        mrr = np.mean([1 / rank for rank in relevant_indices])\n",
        "    else:\n",
        "        mrr = 0.0\n",
        "\n",
        "    print(f\"\\nMean Reciprocal Rank (MRR) for K-Means: {mrr:.2f}\")\n",
        "\n",
        "    return recommendation\n",
        "\n",
        "# Get and evaluate recommendations for K-Means\n",
        "recommendation_kmeans = get_recommendation_kmeans()\n"
      ]
    },
    {
      "cell_type": "code",
      "execution_count": null,
      "metadata": {
        "id": "AOMvmCSGCAX3"
      },
      "outputs": [],
      "source": [
        "# import pickle\n",
        "# with open('scaler.pkl', 'wb') as f:\n",
        "#     pickle.dump(scaler, f)\n",
        "# with open('kmeans.pkl', 'wb') as f:\n",
        "#     pickle.dump(kmeans, f)"
      ]
    },
    {
      "cell_type": "code",
      "execution_count": null,
      "metadata": {
        "colab": {
          "base_uri": "https://localhost:8080/"
        },
        "id": "-3dDHAMdJt9m",
        "outputId": "7eea5202-b161-477a-934b-a9f5f3c0229a"
      },
      "outputs": [],
      "source": [
        "from sklearn.tree import DecisionTreeClassifier\n",
        "from sklearn.model_selection import train_test_split\n",
        "from sklearn.metrics import classification_report, accuracy_score\n",
        "import pandas as pd\n",
        "import numpy as np\n",
        "\n",
        "# Assuming `data` is already loaded and cleaned\n",
        "# Define the input features and separate targets\n",
        "X = data[['sex', 'age', 'Height', 'weight', 'hypertension', 'diabetes', 'bmi', 'level', 'fitness_goal', 'fitness_type']]\n",
        "y_exercises = data['exercises']\n",
        "y_diet = data['diet']\n",
        "y_equipment = data['equipment']\n",
        "\n",
        "# Split the dataset into training and testing sets for each target\n",
        "X_train, X_test, y_train_exercises, y_test_exercises = train_test_split(X, y_exercises, test_size=0.2, random_state=42)\n",
        "_, _, y_train_diet, y_test_diet = train_test_split(X, y_diet, test_size=0.2, random_state=42)\n",
        "_, _, y_train_equipment, y_test_equipment = train_test_split(X, y_equipment, test_size=0.2, random_state=42)\n",
        "\n",
        "# Train Decision Tree models for each target\n",
        "exercise_tree = DecisionTreeClassifier(random_state=42, max_depth=5)\n",
        "diet_tree = DecisionTreeClassifier(random_state=42, max_depth=5)\n",
        "equipment_tree = DecisionTreeClassifier(random_state=42, max_depth=5)\n",
        "\n",
        "exercise_tree.fit(X_train, y_train_exercises)\n",
        "diet_tree.fit(X_train, y_train_diet)\n",
        "equipment_tree.fit(X_train, y_train_equipment)\n",
        "\n",
        "# Evaluate the models\n",
        "print(\"\\nExercise Prediction Report:\")\n",
        "y_pred_exercises = exercise_tree.predict(X_test)\n",
        "print(classification_report(y_test_exercises, y_pred_exercises, zero_division=0))\n",
        "print(f\"Exercise Prediction Accuracy: {accuracy_score(y_test_exercises, y_pred_exercises):.2f}\")\n",
        "\n",
        "print(\"\\nDiet Prediction Report:\")\n",
        "y_pred_diet = diet_tree.predict(X_test)\n",
        "print(classification_report(y_test_diet, y_pred_diet, zero_division=0))\n",
        "print(f\"Diet Prediction Accuracy: {accuracy_score(y_test_diet, y_pred_diet):.2f}\")\n",
        "\n",
        "print(\"\\nEquipment Prediction Report:\")\n",
        "y_pred_equipment = equipment_tree.predict(X_test)\n",
        "print(classification_report(y_test_equipment, y_pred_equipment, zero_division=0))\n",
        "print(f\"Equipment Prediction Accuracy: {accuracy_score(y_test_equipment, y_pred_equipment):.2f}\")\n",
        "\n",
        "# Function to get recommendations using the trained Decision Trees\n",
        "def get_recommendation_decision_tree():\n",
        "    print(\"\\nPlease enter your details for a personalized workout recommendation.\")\n",
        "    user_input = {\n",
        "        'sex': int(input(\"Enter Sex (Male : 1/Female : 0): \")),\n",
        "        'age': float(input(\"Enter Age: \")),\n",
        "        'Height': float(input(\"Enter Height in meters (e.g., 1.75): \")),\n",
        "        'weight': float(input(\"Enter Weight in kg: \")),\n",
        "        'hypertension': int(input(\"Do you have Hypertension (Yes : 1/No : 0): \")),\n",
        "        'diabetes': int(input(\"Do you have Diabetes (Yes : 1/No : 0): \")),\n",
        "        'bmi': float(input(\"Enter BMI: \")),\n",
        "        'level': int(input(\"Enter Level (Underweight : 3, Normal : 0, Overweight : 2, Obese : 1): \")),\n",
        "        'fitness_goal': int(input(\"Enter Fitness Goal (Weight Gain : 0, Weight Loss : 1): \")),\n",
        "        'fitness_type': int(input(\"Enter Fitness Type (Muscular Fitness : 1, Cardio Fitness : 0): \"))\n",
        "    }\n",
        "\n",
        "    # Convert user input to DataFrame\n",
        "    user_df = pd.DataFrame([user_input])\n",
        "\n",
        "    # Predict using the Decision Tree models\n",
        "    recommended_exercises = exercise_tree.predict(user_df)[0]\n",
        "    recommended_diet = diet_tree.predict(user_df)[0]\n",
        "    recommended_equipment = equipment_tree.predict(user_df)[0]\n",
        "\n",
        "    print(\"\\nRecommended Workout Plan (Decision Tree):\")\n",
        "    print(\"EXERCISES:\", recommended_exercises)\n",
        "    print(\"DIET:\", recommended_diet)\n",
        "    print(\"EQUIPMENT:\", recommended_equipment)\n",
        "\n",
        "    # Collect feedback for MRR\n",
        "    feedback_matrix = []\n",
        "\n",
        "    # Assume recommendations are ranked from 1 to 3 (Exercises, Diet, Equipment)\n",
        "    recommendations = [(recommended_exercises, 'Exercises'), (recommended_diet, 'Diet'), (recommended_equipment, 'Equipment')]\n",
        "\n",
        "    for idx, (recommendation, category) in enumerate(recommendations, start=1):\n",
        "        feedback = int(input(f\"Was the {category} recommendation relevant? (Yes: 1, No: 0): \"))\n",
        "        feedback_matrix.append((idx, feedback))  # Store the rank and feedback\n",
        "\n",
        "    # Calculate MRR (Mean Reciprocal Rank)\n",
        "    relevant_indices = [idx for idx, feedback in feedback_matrix if feedback == 1]\n",
        "\n",
        "    if relevant_indices:\n",
        "        # MRR formula: 1 / rank for each relevant recommendation\n",
        "        mrr = np.mean([1 / rank for rank in relevant_indices])  # Calculate MRR\n",
        "    else:\n",
        "        mrr = 0.0  # If no relevant recommendations\n",
        "\n",
        "    print(f\"\\nMean Reciprocal Rank (MRR) for the recommendations: {mrr:.2f}\")\n",
        "\n",
        "    return recommended_exercises, recommended_diet, recommended_equipment, mrr\n",
        "\n",
        "\n",
        "recommended_exercises, recommended_diet, recommended_equipment, mrr = get_recommendation_decision_tree()\n",
        "\n"
      ]
    },
    {
      "cell_type": "markdown",
      "metadata": {
        "id": "cpHOU0E4cw6Q"
      },
      "source": []
    },
    {
      "cell_type": "code",
      "execution_count": null,
      "metadata": {
        "id": "02aVJ21gc6hK"
      },
      "outputs": [],
      "source": []
    },
    {
      "cell_type": "markdown",
      "metadata": {
        "id": "0W8Ih66eczrn"
      },
      "source": [
        "  RANDOM **FOREST**"
      ]
    },
    {
      "cell_type": "code",
      "execution_count": null,
      "metadata": {
        "id": "4Snq4d7io-eC"
      },
      "outputs": [],
      "source": [
        "from sklearn.ensemble import RandomForestClassifier\n",
        "from sklearn.preprocessing import StandardScaler\n",
        "from sklearn.model_selection import train_test_split\n",
        "from sklearn.preprocessing import LabelEncoder\n",
        "import pandas as pd\n",
        "import numpy as np\n",
        "from sklearn.metrics import accuracy_score\n",
        "\n",
        "# Assuming `data` is your dataset (replace this with your actual data)\n",
        "# Preprocessing: Handling missing values and scaling\n",
        "data = data.dropna()  # Remove rows with missing values\n",
        "\n",
        "# Define numerical and categorical columns\n",
        "num_features = ['age', 'Height', 'weight', 'bmi']\n",
        "cat_features = ['sex', 'hypertension', 'diabetes', 'level', 'fitness_goal', 'fitness_type']\n",
        "\n",
        "# Label encoding for categorical features\n",
        "label_encoder = LabelEncoder()\n",
        "for col in cat_features:\n",
        "    data[col] = label_encoder.fit_transform(data[col])\n",
        "import pickle\n",
        "with open('label_encoder.pkl', 'wb') as f:\n",
        "    pickle.dump(label_encoder, f)\n",
        "# Separate features and target\n",
        "X = data[num_features + cat_features]\n",
        "y = data['recommendation']  # The target column\n",
        "\n",
        "# Normalize numerical features\n",
        "scaler = StandardScaler()\n",
        "X[num_features] = scaler.fit_transform(X[num_features])\n",
        "\n",
        "# Train-test split\n",
        "X_train, X_test, y_train, y_test = train_test_split(X, y, test_size=0.2, random_state=42)\n",
        "\n",
        "# Initialize Random Forest Classifier\n",
        "rf = RandomForestClassifier(n_estimators=100, random_state=42)\n",
        "\n",
        "# Train the model\n",
        "rf.fit(X_train, y_train)\n",
        "\n",
        "# Predict on the test set\n",
        "y_pred = rf.predict(X_test)\n",
        "\n",
        "# Calculate accuracy (to check the performance)\n",
        "accuracy = accuracy_score(y_test, y_pred)\n",
        "print(f\"Model Accuracy: {accuracy * 100:.2f}%\")\n",
        "\n",
        "# Define function to get recommendation from Random Forest model\n",
        "def get_recommendation_rf():\n",
        "    print(\"Please enter your details for a personalized workout and diet recommendation.\")\n",
        "\n",
        "    # Collect user input\n",
        "    user_input = {\n",
        "        'sex': int(input(\"Enter Sex (Male : 1/Female : 0): \")),\n",
        "        'age': float(input(\"Enter Age: \")),\n",
        "        'Height': float(input(\"Enter Height in meters (e.g., 1.75): \")),\n",
        "        'weight': float(input(\"Enter Weight in kg: \")),\n",
        "        'hypertension': int(input(\"Do you have Hypertension (Yes : 1/No : 0): \")),\n",
        "        'diabetes': int(input(\"Do you have Diabetes (Yes : 1/No : 0): \")),\n",
        "        'bmi': float(input(\"Enter BMI: \")),\n",
        "        'level': int(input(\"Enter Level (Underweight : 3, Normal : 0, Overweight : 2, Obese : 1): \")),\n",
        "        'fitness_goal': int(input(\"Enter Fitness Goal (Weight Gain : 0, Weight Loss : 1): \")),\n",
        "        'fitness_type': int(input(\"Enter Fitness Type (Muscular Fitness : 1, Cardio Fitness : 0): \"))\n",
        "    }\n",
        "\n",
        "    # Convert the user input into a DataFrame\n",
        "    user_df = pd.DataFrame([user_input])\n",
        "\n",
        "    # Handle unseen categories in label encoding by checking for unseen levels\n",
        "    for col in cat_features:\n",
        "        if col == 'level':  # Handle the 'level' feature separately if it is unseen\n",
        "            if user_input[col] not in label_encoder.classes_:\n",
        "                print(f\"Warning: The input for {col} ({user_input[col]}) is unseen during training. Assigning default value (0).\")\n",
        "                user_df[col] = 0  # Assign a default value (mode or other strategy) if unseen\n",
        "        else:\n",
        "            # Label encode categorical features to match the training set\n",
        "            user_df[col] = label_encoder.transform(user_df[col])\n",
        "\n",
        "    # Normalize numerical features to match the training set\n",
        "    user_df[num_features] = scaler.transform(user_df[num_features])\n",
        "\n",
        "    # Ensure the same feature order as the training set\n",
        "    user_df = user_df[num_features + cat_features]\n",
        "\n",
        "    # Predict recommendation\n",
        "    prediction = rf.predict(user_df)\n",
        "\n",
        "    # Display recommendation\n",
        "    print(\"\\nRecommended Workout and Diet Plan (Random Forest):\")\n",
        "    recommendation = data[data['recommendation'] == prediction[0]].iloc[0]\n",
        "    print(f\"EXERCISES: {recommendation['exercises']}\")\n",
        "    print(f\"EQUIPMENTS: {recommendation['equipment']}\")\n",
        "    print(f\"DIET: {recommendation['diet']}\")\n",
        "\n",
        "    # Collect feedback for MRR and NMRR\n",
        "    feedback_matrix = []\n",
        "    feedback = int(input(\"Was this recommendation relevant? (Yes: 1, No: 0): \"))\n",
        "    feedback_matrix.append(feedback)\n",
        "\n",
        "    # Calculate MRR\n",
        "    mrr = 0.0\n",
        "    if feedback == 1:  # If feedback is relevant\n",
        "        mrr = 1  # Since we're only considering one recommendation, its rank is 1\n",
        "\n",
        "    print(f\"\\nMean Reciprocal Rank (MRR) for Random Forest: {mrr:.2f}\")\n",
        "\n",
        "    # Calculate NMRR (Normalized Mean Reciprocal Rank)\n",
        "    relevant_indices = [i + 1 for i, feedback in enumerate(feedback_matrix) if feedback == 1]\n",
        "    if relevant_indices:\n",
        "        nmrr = np.mean([1 / rank for rank in relevant_indices])  # Calculate NMRR\n",
        "    else:\n",
        "        nmrr = 0.0  # If no relevant recommendations\n",
        "\n",
        "    print(f\"\\nNormalized Mean Reciprocal Rank (NMRR) for Random Forest: {nmrr:.2f}\")\n",
        "\n",
        "    return recommendation\n",
        "\n",
        "# Get and evaluate recommendations for Random Forest\n",
        "recommendation_rf = get_recommendation_rf()\n"
      ]
    },
    {
      "cell_type": "code",
      "execution_count": null,
      "metadata": {
        "id": "zNl9ZCudahDY"
      },
      "outputs": [],
      "source": [
        "import pickle\n",
        "with open('scaler_random.pkl', 'wb') as f:\n",
        "    pickle.dump(scaler, f)\n",
        "with open('random.pkl', 'wb') as f:\n",
        "    pickle.dump(kmeans, f)"
      ]
    },
    {
      "cell_type": "markdown",
      "metadata": {
        "id": "MpLWG-mN-zEK"
      },
      "source": [
        "## 4. RECOMMENDATION, FEEDBACK & EVALUATION"
      ]
    },
    {
      "cell_type": "markdown",
      "metadata": {
        "id": "nPgPf5U9_oCC"
      },
      "source": [
        "`Cosine similarity` is a metric used to measure how similar two vectors are\n",
        "  - Once the cosine similarity scores are calculated between the new user's profile and existing users, the system identifies the top similar users (those with the highest similarity scores).\n",
        "  - The system then generates recommendations based on the most common exercises and diets of these similar users, thereby tailoring suggestions to the new user's profile."
      ]
    },
    {
      "cell_type": "code",
      "execution_count": null,
      "metadata": {
        "id": "suxW3qhJi6gE"
      },
      "outputs": [],
      "source": [
        "# import random\n",
        "# import pandas as pd\n",
        "# import numpy as np\n",
        "# from sklearn.preprocessing import StandardScaler\n",
        "# from sklearn.metrics.pairwise import cosine_similarity\n",
        "\n",
        "# # Assuming 'data' is your dataset\n",
        "# # Make sure the dataset 'data' is loaded with the correct column names\n",
        "\n",
        "# # Fit the scaler on the dataset\n",
        "# scaler = StandardScaler()\n",
        "# data[['age', 'Height', 'weight', 'bmi']] = scaler.fit_transform(data[['age', 'Height', 'weight', 'bmi']])\n",
        "\n",
        "# def get_recommendation(top_n=3):\n",
        "#     print(\"Please enter your details for a personalized workout and diet recommendation.\")\n",
        "#     user_input = {\n",
        "#         'sex': int(input(\"Enter Sex (Male : 1/Female : 0): \")),\n",
        "#         'age': float(input(\"Enter Age: \")),\n",
        "#         'Height': float(input(\"Enter Height in meters (e.g., 1.75): \")),\n",
        "#         'weight': float(input(\"Enter Weight in kg: \")),\n",
        "#         'hypertension': int(input(\"Do you have Hypertension (Yes : 1/No : 0): \")),\n",
        "#         'diabetes': int(input(\"Do you have Diabetes (Yes : 1/No : 0): \")),\n",
        "#         'bmi': float(input(\"Enter BMI: \")),\n",
        "#         'level': int(input(\"Enter Level (Underweight : 3, Normal : 0, Overweight : 2, Obese : 1): \")),\n",
        "#         'fitness_goal': int(input(\"Enter Fitness Goal (Weight Gain : 0, Weight Loss : 1): \")),\n",
        "#         'fitness_type': int(input(\"Enter Fitness Type (Muscular Fitness : 1, Cardio Fitness : 0): \"))\n",
        "#     }\n",
        "\n",
        "#     # Normalize numerical features\n",
        "#     num_features = ['age', 'Height', 'weight', 'bmi']\n",
        "#     user_df = pd.DataFrame([user_input], columns=num_features)\n",
        "#     user_df[num_features] = scaler.transform(user_df[num_features])  # Normalize using the same scaler\n",
        "#     user_input.update(user_df.iloc[0].to_dict())\n",
        "#     user_df = pd.DataFrame([user_input])\n",
        "\n",
        "#     # Calculate similarity scores for exact user input\n",
        "#     user_features = data[['sex', 'age', 'Height', 'weight', 'hypertension', 'diabetes', 'bmi', 'level', 'fitness_goal', 'fitness_type']]\n",
        "#     similarity_scores = cosine_similarity(user_features, user_df).flatten()\n",
        "\n",
        "#     # Retrieve top similar users and get the first recommendation\n",
        "#     similar_user_indices = similarity_scores.argsort()[-top_n:][::-1]\n",
        "#     similar_users = data.iloc[similar_user_indices]\n",
        "#     recommendation_1 = similar_users[['exercises', 'equipment', 'diet']].mode().iloc[0]  # Most common recommendation among top similar users\n",
        "\n",
        "#     # Simulate two additional recommendations by modifying input values slightly\n",
        "#     simulated_recommendations = []\n",
        "\n",
        "#     for _ in range(2):\n",
        "#         modified_input = user_input.copy()\n",
        "\n",
        "#         # Randomly adjust Age, Weight, and BMI with larger variations\n",
        "#         modified_input['age'] += random.randint(-5, 5)  # Adjust age by a larger range\n",
        "#         modified_input['weight'] += random.uniform(-5, 5)  # Adjust weight by a larger range\n",
        "#         modified_input['bmi'] += random.uniform(-1, 1)  # Adjust BMI by a larger range\n",
        "\n",
        "#         # Normalize modified input values\n",
        "#         modified_user_df = pd.DataFrame([modified_input], columns=num_features)\n",
        "#         modified_user_df[num_features] = scaler.transform(modified_user_df[num_features])\n",
        "#         modified_input.update(modified_user_df.iloc[0].to_dict())\n",
        "\n",
        "#         # Calculate similarity scores for modified input\n",
        "#         modified_similarity_scores = cosine_similarity(user_features, pd.DataFrame([modified_input])).flatten()\n",
        "#         modified_similar_user_indices = modified_similarity_scores.argsort()[-top_n:][::-1]\n",
        "#         modified_similar_users = data.iloc[modified_similar_user_indices]\n",
        "#         recommendation = modified_similar_users[['exercises', 'equipment', 'diet']].mode().iloc[0]  # Get most common recommendation\n",
        "\n",
        "#         # Check if the recommendation is already in simulated recommendations\n",
        "#         if not any(rec['exercises'] == recommendation['exercises'] and rec['diet'] == recommendation['diet'] and rec['equipment'] == recommendation['equipment'] for rec in simulated_recommendations):\n",
        "#             simulated_recommendations.append(recommendation)\n",
        "\n",
        "#     # Display all recommendations\n",
        "#     print(\"\\nRecommended Workout and Diet Plans based on your input:\")\n",
        "#     print(\"\\nRecommendation 1 (Exact match):\")\n",
        "#     print(\"EXERCISES:\", recommendation_1['exercises'])\n",
        "#     print(\"EQUIPMENTS:\", recommendation_1['equipment'])\n",
        "#     print(\"DIET:\", recommendation_1['diet'])\n",
        "\n",
        "#     for idx, rec in enumerate(simulated_recommendations, start=2):\n",
        "#         print(f\"\\nRecommendation {idx} (Slight variation):\")\n",
        "#         print(\"EXERCISES:\", rec['exercises'])\n",
        "#         print(\"EQUIPMENTS:\", rec['equipment'])\n",
        "#         print(\"DIET:\", rec['diet'])\n",
        "\n",
        "#     # Collect feedback for each recommendation\n",
        "#     feedback_matrix = []\n",
        "#     for i in range(len(simulated_recommendations) + 1):  # +1 for the first recommendation\n",
        "#         feedback = int(input(f\"Was recommendation {i+1} relevant? (Yes: 1, No: 0): \"))\n",
        "#         feedback_matrix.append(feedback)\n",
        "\n",
        "#     # Calculate MRR\n",
        "#     relevant_indices = [i + 1 for i, feedback in enumerate(feedback_matrix) if feedback == 1]\n",
        "#     if relevant_indices:\n",
        "#         mrr = np.mean([1 / rank for rank in relevant_indices])  # Calculate MRR\n",
        "#     else:\n",
        "#         mrr = 0.0  # If no relevant recommendations\n",
        "\n",
        "#     print(f\"\\nMean Reciprocal Rank (MRR): {mrr:.2f}\")\n",
        "\n",
        "#     return [recommendation_1] + simulated_recommendations, mrr\n",
        "\n",
        "# # Get and display recommendations\n",
        "# recommendations, mrr = get_recommendation(top_n=3)\n"
      ]
    }
  ],
  "metadata": {
    "colab": {
      "provenance": []
    },
    "kernelspec": {
      "display_name": "Python 3",
      "name": "python3"
    },
    "language_info": {
      "name": "python"
    }
  },
  "nbformat": 4,
  "nbformat_minor": 0
}
